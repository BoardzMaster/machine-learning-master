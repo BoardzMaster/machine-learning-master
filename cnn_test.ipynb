{
  "nbformat": 4,
  "nbformat_minor": 0,
  "metadata": {
    "colab": {
      "name": "cnn_test.ipynb",
      "version": "0.3.2",
      "provenance": [],
      "collapsed_sections": [],
      "toc_visible": true,
      "include_colab_link": true
    },
    "kernelspec": {
      "name": "python3",
      "display_name": "Python 3"
    },
    "accelerator": "GPU"
  },
  "cells": [
    {
      "cell_type": "markdown",
      "metadata": {
        "id": "view-in-github",
        "colab_type": "text"
      },
      "source": [
        "[View in Colaboratory](https://colab.research.google.com/github/BoardzMaster/machine-learning-master/blob/master/cnn_test.ipynb)"
      ]
    },
    {
      "metadata": {
        "id": "ce8GJwZyZB1M",
        "colab_type": "code",
        "colab": {
          "base_uri": "https://localhost:8080/",
          "height": 128
        },
        "outputId": "b1b9e2f8-3f84-4e97-ee78-d44937ec3b0b"
      },
      "cell_type": "code",
      "source": [
        "from google.colab import drive\n",
        "drive.mount('/content/drive/')"
      ],
      "execution_count": 1,
      "outputs": [
        {
          "output_type": "stream",
          "text": [
            "Go to this URL in a browser: https://accounts.google.com/o/oauth2/auth?client_id=947318989803-6bn6qk8qdgf4n4g3pfee6491hc0brc4i.apps.googleusercontent.com&redirect_uri=urn%3Aietf%3Awg%3Aoauth%3A2.0%3Aoob&scope=email%20https%3A%2F%2Fwww.googleapis.com%2Fauth%2Fdocs.test%20https%3A%2F%2Fwww.googleapis.com%2Fauth%2Fdrive%20https%3A%2F%2Fwww.googleapis.com%2Fauth%2Fdrive.photos.readonly%20https%3A%2F%2Fwww.googleapis.com%2Fauth%2Fpeopleapi.readonly&response_type=code\n",
            "\n",
            "Enter your authorization code:\n",
            "··········\n",
            "Mounted at /content/drive/\n"
          ],
          "name": "stdout"
        }
      ]
    },
    {
      "metadata": {
        "id": "VjHYpUDxRNNa",
        "colab_type": "code",
        "colab": {
          "base_uri": "https://localhost:8080/",
          "height": 72
        },
        "outputId": "f3e23cbf-510f-480a-b3aa-9fe42b3fbf7e"
      },
      "cell_type": "code",
      "source": [
        "!ls \"/content/drive/My Drive/\""
      ],
      "execution_count": 2,
      "outputs": [
        {
          "output_type": "stream",
          "text": [
            " Books\t\t\t  'radar wind profiler'   ПГ_лонги.rar\t'Фото_отказ '\n",
            " Colab\t\t\t   sign.jpg\t\t  Статья\t'ЭЛ. Подпись'\n",
            " IMG-20160615-WA0001.jpg   Данные.txt.gdoc\t  Суд\n"
          ],
          "name": "stdout"
        }
      ]
    },
    {
      "metadata": {
        "id": "EJpr1QsEWaaL",
        "colab_type": "code",
        "colab": {
          "base_uri": "https://localhost:8080/",
          "height": 128
        },
        "outputId": "acf08500-6aea-4232-be16-7c107a520043"
      },
      "cell_type": "code",
      "source": [
        "! pip install pydicom"
      ],
      "execution_count": 3,
      "outputs": [
        {
          "output_type": "stream",
          "text": [
            "Collecting pydicom\n",
            "\u001b[?25l  Downloading https://files.pythonhosted.org/packages/97/ae/93aeb6ba65cf976a23e735e9d32b0d1ffa2797c418f7161300be2ec1f1dd/pydicom-1.2.0-py2.py3-none-any.whl (7.3MB)\n",
            "\u001b[K    100% |████████████████████████████████| 7.3MB 1.0MB/s \n",
            "\u001b[?25hInstalling collected packages: pydicom\n",
            "Successfully installed pydicom-1.2.0\n"
          ],
          "name": "stdout"
        }
      ]
    },
    {
      "metadata": {
        "id": "Wv9FmhHVTl8m",
        "colab_type": "code",
        "colab": {
          "base_uri": "https://localhost:8080/",
          "height": 35
        },
        "outputId": "745cd28f-bd6a-45f0-a34d-ba95e03ce294"
      },
      "cell_type": "code",
      "source": [
        "#import libraries\n",
        "import pydicom\n",
        "import cv2\n",
        "import os\n",
        "import sys\n",
        "import numpy\n",
        "import pandas as pd\n",
        "from matplotlib  import  cm\n",
        "import matplotlib.pyplot as plt\n",
        "import matplotlib.patches as patches\n",
        "import random\n",
        "import numpy as np\n",
        "import keras\n",
        "import tensorflow"
      ],
      "execution_count": 4,
      "outputs": [
        {
          "output_type": "stream",
          "text": [
            "Using TensorFlow backend.\n"
          ],
          "name": "stderr"
        }
      ]
    },
    {
      "metadata": {
        "id": "haZ9jJ6JTuiN",
        "colab_type": "code",
        "colab": {
          "base_uri": "https://localhost:8080/",
          "height": 35
        },
        "outputId": "1e50a8f8-8f9b-4dde-e873-d633f454379a"
      },
      "cell_type": "code",
      "source": [
        "print(os.listdir(\"drive\"))\n"
      ],
      "execution_count": 5,
      "outputs": [
        {
          "output_type": "stream",
          "text": [
            "['My Drive', '.Trash']\n"
          ],
          "name": "stdout"
        }
      ]
    },
    {
      "metadata": {
        "id": "KKNBOuWMTYBz",
        "colab_type": "code",
        "colab": {
          "base_uri": "https://localhost:8080/",
          "height": 2092
        },
        "outputId": "f3af78d7-37eb-442d-a6a1-75112fa4c41c"
      },
      "cell_type": "code",
      "source": [
        "!pip install -r \"drive/My Drive/Colab/Kaggle_RSA_Competition/Mask_RCNN-master/requirements.txt\""
      ],
      "execution_count": 6,
      "outputs": [
        {
          "output_type": "stream",
          "text": [
            "Requirement already satisfied: numpy in /usr/local/lib/python3.6/dist-packages (from -r drive/My Drive/Colab/Kaggle_RSA_Competition/Mask_RCNN-master/requirements.txt (line 1)) (1.14.6)\n",
            "Requirement already satisfied: scipy in /usr/local/lib/python3.6/dist-packages (from -r drive/My Drive/Colab/Kaggle_RSA_Competition/Mask_RCNN-master/requirements.txt (line 2)) (0.19.1)\n",
            "Requirement already satisfied: Pillow in /usr/local/lib/python3.6/dist-packages (from -r drive/My Drive/Colab/Kaggle_RSA_Competition/Mask_RCNN-master/requirements.txt (line 3)) (4.0.0)\n",
            "Collecting cython (from -r drive/My Drive/Colab/Kaggle_RSA_Competition/Mask_RCNN-master/requirements.txt (line 4))\n",
            "\u001b[?25l  Downloading https://files.pythonhosted.org/packages/64/3f/cac281f3f019b825bbc03fa8cb7eb03d9c355f4aa9eef978279a4966cb21/Cython-0.29-cp36-cp36m-manylinux1_x86_64.whl (2.1MB)\n",
            "\u001b[K    100% |████████████████████████████████| 2.1MB 14.3MB/s \n",
            "\u001b[?25hRequirement already satisfied: matplotlib in /usr/local/lib/python3.6/dist-packages (from -r drive/My Drive/Colab/Kaggle_RSA_Competition/Mask_RCNN-master/requirements.txt (line 5)) (2.1.2)\n",
            "Requirement already satisfied: scikit-image in /usr/local/lib/python3.6/dist-packages (from -r drive/My Drive/Colab/Kaggle_RSA_Competition/Mask_RCNN-master/requirements.txt (line 6)) (0.13.1)\n",
            "Requirement already satisfied: tensorflow>=1.3.0 in /usr/local/lib/python3.6/dist-packages (from -r drive/My Drive/Colab/Kaggle_RSA_Competition/Mask_RCNN-master/requirements.txt (line 7)) (1.12.0rc1)\n",
            "Requirement already satisfied: keras>=2.0.8 in /usr/local/lib/python3.6/dist-packages (from -r drive/My Drive/Colab/Kaggle_RSA_Competition/Mask_RCNN-master/requirements.txt (line 8)) (2.1.6)\n",
            "Requirement already satisfied: opencv-python in /usr/local/lib/python3.6/dist-packages (from -r drive/My Drive/Colab/Kaggle_RSA_Competition/Mask_RCNN-master/requirements.txt (line 9)) (3.4.3.18)\n",
            "Requirement already satisfied: h5py in /usr/local/lib/python3.6/dist-packages (from -r drive/My Drive/Colab/Kaggle_RSA_Competition/Mask_RCNN-master/requirements.txt (line 10)) (2.8.0)\n",
            "Collecting imgaug (from -r drive/My Drive/Colab/Kaggle_RSA_Competition/Mask_RCNN-master/requirements.txt (line 11))\n",
            "\u001b[?25l  Downloading https://files.pythonhosted.org/packages/ad/2e/748dbb7bb52ec8667098bae9b585f448569ae520031932687761165419a2/imgaug-0.2.6.tar.gz (631kB)\n",
            "\u001b[K    100% |████████████████████████████████| 634kB 22.9MB/s \n",
            "\u001b[?25hRequirement already satisfied: IPython[all] in /usr/local/lib/python3.6/dist-packages (from -r drive/My Drive/Colab/Kaggle_RSA_Competition/Mask_RCNN-master/requirements.txt (line 12)) (5.5.0)\n",
            "Requirement already satisfied: olefile in /usr/local/lib/python3.6/dist-packages (from Pillow->-r drive/My Drive/Colab/Kaggle_RSA_Competition/Mask_RCNN-master/requirements.txt (line 3)) (0.46)\n",
            "Requirement already satisfied: pyparsing!=2.0.4,!=2.1.2,!=2.1.6,>=2.0.1 in /usr/local/lib/python3.6/dist-packages (from matplotlib->-r drive/My Drive/Colab/Kaggle_RSA_Competition/Mask_RCNN-master/requirements.txt (line 5)) (2.2.2)\n",
            "Requirement already satisfied: pytz in /usr/local/lib/python3.6/dist-packages (from matplotlib->-r drive/My Drive/Colab/Kaggle_RSA_Competition/Mask_RCNN-master/requirements.txt (line 5)) (2018.5)\n",
            "Requirement already satisfied: cycler>=0.10 in /usr/local/lib/python3.6/dist-packages (from matplotlib->-r drive/My Drive/Colab/Kaggle_RSA_Competition/Mask_RCNN-master/requirements.txt (line 5)) (0.10.0)\n",
            "Requirement already satisfied: python-dateutil>=2.1 in /usr/local/lib/python3.6/dist-packages (from matplotlib->-r drive/My Drive/Colab/Kaggle_RSA_Competition/Mask_RCNN-master/requirements.txt (line 5)) (2.5.3)\n",
            "Requirement already satisfied: six>=1.10 in /usr/local/lib/python3.6/dist-packages (from matplotlib->-r drive/My Drive/Colab/Kaggle_RSA_Competition/Mask_RCNN-master/requirements.txt (line 5)) (1.11.0)\n",
            "Requirement already satisfied: PyWavelets>=0.4.0 in /usr/local/lib/python3.6/dist-packages (from scikit-image->-r drive/My Drive/Colab/Kaggle_RSA_Competition/Mask_RCNN-master/requirements.txt (line 6)) (1.0.1)\n",
            "Requirement already satisfied: networkx>=1.8 in /usr/local/lib/python3.6/dist-packages (from scikit-image->-r drive/My Drive/Colab/Kaggle_RSA_Competition/Mask_RCNN-master/requirements.txt (line 6)) (2.2)\n",
            "Requirement already satisfied: gast>=0.2.0 in /usr/local/lib/python3.6/dist-packages (from tensorflow>=1.3.0->-r drive/My Drive/Colab/Kaggle_RSA_Competition/Mask_RCNN-master/requirements.txt (line 7)) (0.2.0)\n",
            "Requirement already satisfied: tensorboard<1.12.0,>=1.11.0 in /usr/local/lib/python3.6/dist-packages (from tensorflow>=1.3.0->-r drive/My Drive/Colab/Kaggle_RSA_Competition/Mask_RCNN-master/requirements.txt (line 7)) (1.11.0)\n",
            "Requirement already satisfied: keras-applications>=1.0.6 in /usr/local/lib/python3.6/dist-packages (from tensorflow>=1.3.0->-r drive/My Drive/Colab/Kaggle_RSA_Competition/Mask_RCNN-master/requirements.txt (line 7)) (1.0.6)\n",
            "Requirement already satisfied: absl-py>=0.1.6 in /usr/local/lib/python3.6/dist-packages (from tensorflow>=1.3.0->-r drive/My Drive/Colab/Kaggle_RSA_Competition/Mask_RCNN-master/requirements.txt (line 7)) (0.5.0)\n",
            "Requirement already satisfied: grpcio>=1.8.6 in /usr/local/lib/python3.6/dist-packages (from tensorflow>=1.3.0->-r drive/My Drive/Colab/Kaggle_RSA_Competition/Mask_RCNN-master/requirements.txt (line 7)) (1.15.0)\n",
            "Requirement already satisfied: protobuf>=3.6.1 in /usr/local/lib/python3.6/dist-packages (from tensorflow>=1.3.0->-r drive/My Drive/Colab/Kaggle_RSA_Competition/Mask_RCNN-master/requirements.txt (line 7)) (3.6.1)\n",
            "Requirement already satisfied: keras-preprocessing>=1.0.5 in /usr/local/lib/python3.6/dist-packages (from tensorflow>=1.3.0->-r drive/My Drive/Colab/Kaggle_RSA_Competition/Mask_RCNN-master/requirements.txt (line 7)) (1.0.5)\n",
            "Requirement already satisfied: wheel>=0.26 in /usr/local/lib/python3.6/dist-packages (from tensorflow>=1.3.0->-r drive/My Drive/Colab/Kaggle_RSA_Competition/Mask_RCNN-master/requirements.txt (line 7)) (0.32.2)\n",
            "Requirement already satisfied: termcolor>=1.1.0 in /usr/local/lib/python3.6/dist-packages (from tensorflow>=1.3.0->-r drive/My Drive/Colab/Kaggle_RSA_Competition/Mask_RCNN-master/requirements.txt (line 7)) (1.1.0)\n",
            "Requirement already satisfied: astor>=0.6.0 in /usr/local/lib/python3.6/dist-packages (from tensorflow>=1.3.0->-r drive/My Drive/Colab/Kaggle_RSA_Competition/Mask_RCNN-master/requirements.txt (line 7)) (0.7.1)\n",
            "Requirement already satisfied: pyyaml in /usr/local/lib/python3.6/dist-packages (from keras>=2.0.8->-r drive/My Drive/Colab/Kaggle_RSA_Competition/Mask_RCNN-master/requirements.txt (line 8)) (3.13)\n",
            "Requirement already satisfied: pygments in /usr/local/lib/python3.6/dist-packages (from IPython[all]->-r drive/My Drive/Colab/Kaggle_RSA_Competition/Mask_RCNN-master/requirements.txt (line 12)) (2.1.3)\n",
            "Requirement already satisfied: prompt-toolkit<2.0.0,>=1.0.4 in /usr/local/lib/python3.6/dist-packages (from IPython[all]->-r drive/My Drive/Colab/Kaggle_RSA_Competition/Mask_RCNN-master/requirements.txt (line 12)) (1.0.15)\n",
            "Requirement already satisfied: traitlets>=4.2 in /usr/local/lib/python3.6/dist-packages (from IPython[all]->-r drive/My Drive/Colab/Kaggle_RSA_Competition/Mask_RCNN-master/requirements.txt (line 12)) (4.3.2)\n",
            "Requirement already satisfied: setuptools>=18.5 in /usr/local/lib/python3.6/dist-packages (from IPython[all]->-r drive/My Drive/Colab/Kaggle_RSA_Competition/Mask_RCNN-master/requirements.txt (line 12)) (40.4.3)\n",
            "Requirement already satisfied: pexpect; sys_platform != \"win32\" in /usr/local/lib/python3.6/dist-packages (from IPython[all]->-r drive/My Drive/Colab/Kaggle_RSA_Competition/Mask_RCNN-master/requirements.txt (line 12)) (4.6.0)\n",
            "Requirement already satisfied: decorator in /usr/local/lib/python3.6/dist-packages (from IPython[all]->-r drive/My Drive/Colab/Kaggle_RSA_Competition/Mask_RCNN-master/requirements.txt (line 12)) (4.3.0)\n",
            "Requirement already satisfied: simplegeneric>0.8 in /usr/local/lib/python3.6/dist-packages (from IPython[all]->-r drive/My Drive/Colab/Kaggle_RSA_Competition/Mask_RCNN-master/requirements.txt (line 12)) (0.8.1)\n",
            "Requirement already satisfied: pickleshare in /usr/local/lib/python3.6/dist-packages (from IPython[all]->-r drive/My Drive/Colab/Kaggle_RSA_Competition/Mask_RCNN-master/requirements.txt (line 12)) (0.7.5)\n",
            "Collecting Sphinx>=1.3; extra == \"all\" (from IPython[all]->-r drive/My Drive/Colab/Kaggle_RSA_Competition/Mask_RCNN-master/requirements.txt (line 12))\n",
            "\u001b[?25l  Downloading https://files.pythonhosted.org/packages/35/e0/e9e83b244eaa382ba21896dda6172617e47aff0be225eb72782cca105d3c/Sphinx-1.8.1-py2.py3-none-any.whl (3.1MB)\n",
            "\u001b[K    100% |████████████████████████████████| 3.1MB 9.5MB/s \n",
            "\u001b[?25hRequirement already satisfied: ipykernel; extra == \"all\" in /usr/local/lib/python3.6/dist-packages (from IPython[all]->-r drive/My Drive/Colab/Kaggle_RSA_Competition/Mask_RCNN-master/requirements.txt (line 12)) (4.6.1)\n",
            "Collecting nose>=0.10.1; extra == \"all\" (from IPython[all]->-r drive/My Drive/Colab/Kaggle_RSA_Competition/Mask_RCNN-master/requirements.txt (line 12))\n",
            "\u001b[?25l  Downloading https://files.pythonhosted.org/packages/15/d8/dd071918c040f50fa1cf80da16423af51ff8ce4a0f2399b7bf8de45ac3d9/nose-1.3.7-py3-none-any.whl (154kB)\n",
            "\u001b[K    100% |████████████████████████████████| 163kB 32.3MB/s \n",
            "\u001b[?25hCollecting qtconsole; extra == \"all\" (from IPython[all]->-r drive/My Drive/Colab/Kaggle_RSA_Competition/Mask_RCNN-master/requirements.txt (line 12))\n",
            "\u001b[?25l  Downloading https://files.pythonhosted.org/packages/37/22/0d8474f78a8c421d485ac2339de7c871d535160f09f170de90c8185b87c4/qtconsole-4.4.2-py2.py3-none-any.whl (112kB)\n",
            "\u001b[K    100% |████████████████████████████████| 112kB 35.1MB/s \n",
            "\u001b[?25hRequirement already satisfied: requests; extra == \"all\" in /usr/local/lib/python3.6/dist-packages (from IPython[all]->-r drive/My Drive/Colab/Kaggle_RSA_Competition/Mask_RCNN-master/requirements.txt (line 12)) (2.18.4)\n",
            "Requirement already satisfied: notebook; extra == \"all\" in /usr/local/lib/python3.6/dist-packages (from IPython[all]->-r drive/My Drive/Colab/Kaggle_RSA_Competition/Mask_RCNN-master/requirements.txt (line 12)) (5.2.2)\n",
            "Collecting ipywidgets; extra == \"all\" (from IPython[all]->-r drive/My Drive/Colab/Kaggle_RSA_Competition/Mask_RCNN-master/requirements.txt (line 12))\n",
            "\u001b[?25l  Downloading https://files.pythonhosted.org/packages/30/9a/a008c7b1183fac9e52066d80a379b3c64eab535bd9d86cdc29a0b766fd82/ipywidgets-7.4.2-py2.py3-none-any.whl (111kB)\n",
            "\u001b[K    100% |████████████████████████████████| 112kB 29.2MB/s \n",
            "\u001b[?25hRequirement already satisfied: nbformat; extra == \"all\" in /usr/local/lib/python3.6/dist-packages (from IPython[all]->-r drive/My Drive/Colab/Kaggle_RSA_Competition/Mask_RCNN-master/requirements.txt (line 12)) (4.4.0)\n",
            "Collecting ipyparallel; extra == \"all\" (from IPython[all]->-r drive/My Drive/Colab/Kaggle_RSA_Competition/Mask_RCNN-master/requirements.txt (line 12))\n",
            "\u001b[?25l  Downloading https://files.pythonhosted.org/packages/de/58/0342ee79ea4cf134b2d81cd600a5263341efc8b688edaacd75827e07ac64/ipyparallel-6.2.3-py2.py3-none-any.whl (197kB)\n",
            "\u001b[K    100% |████████████████████████████████| 204kB 30.7MB/s \n",
            "\u001b[?25hRequirement already satisfied: testpath; extra == \"all\" in /usr/local/lib/python3.6/dist-packages (from IPython[all]->-r drive/My Drive/Colab/Kaggle_RSA_Competition/Mask_RCNN-master/requirements.txt (line 12)) (0.4.2)\n",
            "Requirement already satisfied: nbconvert; extra == \"all\" in /usr/local/lib/python3.6/dist-packages (from IPython[all]->-r drive/My Drive/Colab/Kaggle_RSA_Competition/Mask_RCNN-master/requirements.txt (line 12)) (5.4.0)\n",
            "Requirement already satisfied: werkzeug>=0.11.10 in /usr/local/lib/python3.6/dist-packages (from tensorboard<1.12.0,>=1.11.0->tensorflow>=1.3.0->-r drive/My Drive/Colab/Kaggle_RSA_Competition/Mask_RCNN-master/requirements.txt (line 7)) (0.14.1)\n",
            "Requirement already satisfied: markdown>=2.6.8 in /usr/local/lib/python3.6/dist-packages (from tensorboard<1.12.0,>=1.11.0->tensorflow>=1.3.0->-r drive/My Drive/Colab/Kaggle_RSA_Competition/Mask_RCNN-master/requirements.txt (line 7)) (3.0.1)\n",
            "Requirement already satisfied: wcwidth in /usr/local/lib/python3.6/dist-packages (from prompt-toolkit<2.0.0,>=1.0.4->IPython[all]->-r drive/My Drive/Colab/Kaggle_RSA_Competition/Mask_RCNN-master/requirements.txt (line 12)) (0.1.7)\n",
            "Requirement already satisfied: ipython-genutils in /usr/local/lib/python3.6/dist-packages (from traitlets>=4.2->IPython[all]->-r drive/My Drive/Colab/Kaggle_RSA_Competition/Mask_RCNN-master/requirements.txt (line 12)) (0.2.0)\n",
            "Requirement already satisfied: ptyprocess>=0.5 in /usr/local/lib/python3.6/dist-packages (from pexpect; sys_platform != \"win32\"->IPython[all]->-r drive/My Drive/Colab/Kaggle_RSA_Competition/Mask_RCNN-master/requirements.txt (line 12)) (0.6.0)\n",
            "Collecting packaging (from Sphinx>=1.3; extra == \"all\"->IPython[all]->-r drive/My Drive/Colab/Kaggle_RSA_Competition/Mask_RCNN-master/requirements.txt (line 12))\n",
            "  Downloading https://files.pythonhosted.org/packages/89/d1/92e6df2e503a69df9faab187c684585f0136662c12bb1f36901d426f3fab/packaging-18.0-py2.py3-none-any.whl\n",
            "Collecting docutils>=0.11 (from Sphinx>=1.3; extra == \"all\"->IPython[all]->-r drive/My Drive/Colab/Kaggle_RSA_Competition/Mask_RCNN-master/requirements.txt (line 12))\n",
            "\u001b[?25l  Downloading https://files.pythonhosted.org/packages/36/fa/08e9e6e0e3cbd1d362c3bbee8d01d0aedb2155c4ac112b19ef3cae8eed8d/docutils-0.14-py3-none-any.whl (543kB)\n",
            "\u001b[K    100% |████████████████████████████████| 552kB 27.8MB/s \n",
            "\u001b[?25hCollecting snowballstemmer>=1.1 (from Sphinx>=1.3; extra == \"all\"->IPython[all]->-r drive/My Drive/Colab/Kaggle_RSA_Competition/Mask_RCNN-master/requirements.txt (line 12))\n",
            "\u001b[?25l  Downloading https://files.pythonhosted.org/packages/d4/6c/8a935e2c7b54a37714656d753e4187ee0631988184ed50c0cf6476858566/snowballstemmer-1.2.1-py2.py3-none-any.whl (64kB)\n",
            "\u001b[K    100% |████████████████████████████████| 71kB 21.8MB/s \n",
            "\u001b[?25hRequirement already satisfied: Jinja2>=2.3 in /usr/local/lib/python3.6/dist-packages (from Sphinx>=1.3; extra == \"all\"->IPython[all]->-r drive/My Drive/Colab/Kaggle_RSA_Competition/Mask_RCNN-master/requirements.txt (line 12)) (2.10)\n",
            "Collecting imagesize (from Sphinx>=1.3; extra == \"all\"->IPython[all]->-r drive/My Drive/Colab/Kaggle_RSA_Competition/Mask_RCNN-master/requirements.txt (line 12))\n",
            "  Downloading https://files.pythonhosted.org/packages/fc/b6/aef66b4c52a6ad6ac18cf6ebc5731ed06d8c9ae4d3b2d9951f261150be67/imagesize-1.1.0-py2.py3-none-any.whl\n",
            "Collecting sphinxcontrib-websupport (from Sphinx>=1.3; extra == \"all\"->IPython[all]->-r drive/My Drive/Colab/Kaggle_RSA_Competition/Mask_RCNN-master/requirements.txt (line 12))\n",
            "  Downloading https://files.pythonhosted.org/packages/52/69/3c2fbdc3702358c5b34ee25e387b24838597ef099761fc9a42c166796e8f/sphinxcontrib_websupport-1.1.0-py2.py3-none-any.whl\n",
            "Collecting alabaster<0.8,>=0.7 (from Sphinx>=1.3; extra == \"all\"->IPython[all]->-r drive/My Drive/Colab/Kaggle_RSA_Competition/Mask_RCNN-master/requirements.txt (line 12))\n",
            "  Downloading https://files.pythonhosted.org/packages/10/ad/00b090d23a222943eb0eda509720a404f531a439e803f6538f35136cae9e/alabaster-0.7.12-py2.py3-none-any.whl\n",
            "Collecting babel!=2.0,>=1.3 (from Sphinx>=1.3; extra == \"all\"->IPython[all]->-r drive/My Drive/Colab/Kaggle_RSA_Competition/Mask_RCNN-master/requirements.txt (line 12))\n",
            "\u001b[?25l  Downloading https://files.pythonhosted.org/packages/b8/ad/c6f60602d3ee3d92fbed87675b6fb6a6f9a38c223343ababdb44ba201f10/Babel-2.6.0-py2.py3-none-any.whl (8.1MB)\n",
            "\u001b[K    100% |████████████████████████████████| 8.1MB 5.4MB/s \n",
            "\u001b[?25hRequirement already satisfied: tornado>=4.0 in /usr/local/lib/python3.6/dist-packages (from ipykernel; extra == \"all\"->IPython[all]->-r drive/My Drive/Colab/Kaggle_RSA_Competition/Mask_RCNN-master/requirements.txt (line 12)) (4.5.3)\n",
            "Requirement already satisfied: jupyter-client in /usr/local/lib/python3.6/dist-packages (from ipykernel; extra == \"all\"->IPython[all]->-r drive/My Drive/Colab/Kaggle_RSA_Competition/Mask_RCNN-master/requirements.txt (line 12)) (5.2.3)\n",
            "Requirement already satisfied: jupyter-core in /usr/local/lib/python3.6/dist-packages (from qtconsole; extra == \"all\"->IPython[all]->-r drive/My Drive/Colab/Kaggle_RSA_Competition/Mask_RCNN-master/requirements.txt (line 12)) (4.4.0)\n",
            "Requirement already satisfied: urllib3<1.23,>=1.21.1 in /usr/local/lib/python3.6/dist-packages (from requests; extra == \"all\"->IPython[all]->-r drive/My Drive/Colab/Kaggle_RSA_Competition/Mask_RCNN-master/requirements.txt (line 12)) (1.22)\n",
            "Requirement already satisfied: idna<2.7,>=2.5 in /usr/local/lib/python3.6/dist-packages (from requests; extra == \"all\"->IPython[all]->-r drive/My Drive/Colab/Kaggle_RSA_Competition/Mask_RCNN-master/requirements.txt (line 12)) (2.6)\n",
            "Requirement already satisfied: certifi>=2017.4.17 in /usr/local/lib/python3.6/dist-packages (from requests; extra == \"all\"->IPython[all]->-r drive/My Drive/Colab/Kaggle_RSA_Competition/Mask_RCNN-master/requirements.txt (line 12)) (2018.10.15)\n",
            "Requirement already satisfied: chardet<3.1.0,>=3.0.2 in /usr/local/lib/python3.6/dist-packages (from requests; extra == \"all\"->IPython[all]->-r drive/My Drive/Colab/Kaggle_RSA_Competition/Mask_RCNN-master/requirements.txt (line 12)) (3.0.4)\n",
            "Requirement already satisfied: terminado>=0.3.3; sys_platform != \"win32\" in /usr/local/lib/python3.6/dist-packages (from notebook; extra == \"all\"->IPython[all]->-r drive/My Drive/Colab/Kaggle_RSA_Competition/Mask_RCNN-master/requirements.txt (line 12)) (0.8.1)\n",
            "Collecting widgetsnbextension~=3.4.0 (from ipywidgets; extra == \"all\"->IPython[all]->-r drive/My Drive/Colab/Kaggle_RSA_Competition/Mask_RCNN-master/requirements.txt (line 12))\n",
            "\u001b[?25l  Downloading https://files.pythonhosted.org/packages/8a/81/35789a3952afb48238289171728072d26d6e76649ddc8b3588657a2d78c1/widgetsnbextension-3.4.2-py2.py3-none-any.whl (2.2MB)\n",
            "\u001b[K    100% |████████████████████████████████| 2.2MB 17.7MB/s \n",
            "\u001b[?25hRequirement already satisfied: jsonschema!=2.5.0,>=2.4 in /usr/local/lib/python3.6/dist-packages (from nbformat; extra == \"all\"->IPython[all]->-r drive/My Drive/Colab/Kaggle_RSA_Competition/Mask_RCNN-master/requirements.txt (line 12)) (2.6.0)\n",
            "Requirement already satisfied: pyzmq>=13 in /usr/local/lib/python3.6/dist-packages (from ipyparallel; extra == \"all\"->IPython[all]->-r drive/My Drive/Colab/Kaggle_RSA_Competition/Mask_RCNN-master/requirements.txt (line 12)) (16.0.4)\n",
            "Requirement already satisfied: mistune>=0.8.1 in /usr/local/lib/python3.6/dist-packages (from nbconvert; extra == \"all\"->IPython[all]->-r drive/My Drive/Colab/Kaggle_RSA_Competition/Mask_RCNN-master/requirements.txt (line 12)) (0.8.4)\n",
            "Requirement already satisfied: bleach in /usr/local/lib/python3.6/dist-packages (from nbconvert; extra == \"all\"->IPython[all]->-r drive/My Drive/Colab/Kaggle_RSA_Competition/Mask_RCNN-master/requirements.txt (line 12)) (3.0.2)\n",
            "Requirement already satisfied: defusedxml in /usr/local/lib/python3.6/dist-packages (from nbconvert; extra == \"all\"->IPython[all]->-r drive/My Drive/Colab/Kaggle_RSA_Competition/Mask_RCNN-master/requirements.txt (line 12)) (0.5.0)\n",
            "Requirement already satisfied: entrypoints>=0.2.2 in /usr/local/lib/python3.6/dist-packages (from nbconvert; extra == \"all\"->IPython[all]->-r drive/My Drive/Colab/Kaggle_RSA_Competition/Mask_RCNN-master/requirements.txt (line 12)) (0.2.3)\n",
            "Requirement already satisfied: pandocfilters>=1.4.1 in /usr/local/lib/python3.6/dist-packages (from nbconvert; extra == \"all\"->IPython[all]->-r drive/My Drive/Colab/Kaggle_RSA_Competition/Mask_RCNN-master/requirements.txt (line 12)) (1.4.2)\n",
            "Requirement already satisfied: MarkupSafe>=0.23 in /usr/local/lib/python3.6/dist-packages (from Jinja2>=2.3->Sphinx>=1.3; extra == \"all\"->IPython[all]->-r drive/My Drive/Colab/Kaggle_RSA_Competition/Mask_RCNN-master/requirements.txt (line 12)) (1.0)\n",
            "Requirement already satisfied: webencodings in /usr/local/lib/python3.6/dist-packages (from bleach->nbconvert; extra == \"all\"->IPython[all]->-r drive/My Drive/Colab/Kaggle_RSA_Competition/Mask_RCNN-master/requirements.txt (line 12)) (0.5.1)\n",
            "Building wheels for collected packages: imgaug\n",
            "  Running setup.py bdist_wheel for imgaug ... \u001b[?25l-\b \b\\\b \bdone\n",
            "\u001b[?25h  Stored in directory: /root/.cache/pip/wheels/97/ec/48/0d25896c417b715af6236dbcef8f0bed136a1a5e52972fc6d0\n",
            "Successfully built imgaug\n",
            "Installing collected packages: cython, imgaug, packaging, docutils, snowballstemmer, imagesize, sphinxcontrib-websupport, alabaster, babel, Sphinx, nose, qtconsole, widgetsnbextension, ipywidgets, ipyparallel\n",
            "Successfully installed Sphinx-1.8.1 alabaster-0.7.12 babel-2.6.0 cython-0.29 docutils-0.14 imagesize-1.1.0 imgaug-0.2.6 ipyparallel-6.2.3 ipywidgets-7.4.2 nose-1.3.7 packaging-18.0 qtconsole-4.4.2 snowballstemmer-1.2.1 sphinxcontrib-websupport-1.1.0 widgetsnbextension-3.4.2\n"
          ],
          "name": "stdout"
        }
      ]
    },
    {
      "metadata": {
        "id": "1YtGGk5FVBWY",
        "colab_type": "code",
        "colab": {
          "base_uri": "https://localhost:8080/",
          "height": 1201
        },
        "outputId": "6c02cea9-8b11-4fa7-eb44-65cf1016f3ad"
      },
      "cell_type": "code",
      "source": [
        "!python3 \"drive/My Drive/Colab/Kaggle_RSA_Competition/Mask_RCNN-master/colab_setup.py\" install\n"
      ],
      "execution_count": 7,
      "outputs": [
        {
          "output_type": "stream",
          "text": [
            "WARNING:root:Fail load requirements file, so using default ones.\n",
            "running install\n",
            "running bdist_egg\n",
            "running egg_info\n",
            "creating mask_rcnn.egg-info\n",
            "writing mask_rcnn.egg-info/PKG-INFO\n",
            "writing dependency_links to mask_rcnn.egg-info/dependency_links.txt\n",
            "writing top-level names to mask_rcnn.egg-info/top_level.txt\n",
            "writing manifest file 'mask_rcnn.egg-info/SOURCES.txt'\n",
            "reading manifest file 'mask_rcnn.egg-info/SOURCES.txt'\n",
            "writing manifest file 'mask_rcnn.egg-info/SOURCES.txt'\n",
            "installing library code to build/bdist.linux-x86_64/egg\n",
            "running install_lib\n",
            "running build_py\n",
            "creating build\n",
            "creating build/lib\n",
            "creating build/lib/drive\n",
            "creating build/lib/drive/My Drive\n",
            "creating build/lib/drive/My Drive/Colab\n",
            "creating build/lib/drive/My Drive/Colab/Kaggle_RSA_Competition\n",
            "creating build/lib/drive/My Drive/Colab/Kaggle_RSA_Competition/Mask_RCNN-master\n",
            "creating build/lib/drive/My Drive/Colab/Kaggle_RSA_Competition/Mask_RCNN-master/mrcnn\n",
            "copying drive/My Drive/Colab/Kaggle_RSA_Competition/Mask_RCNN-master/mrcnn/model.py -> build/lib/drive/My Drive/Colab/Kaggle_RSA_Competition/Mask_RCNN-master/mrcnn\n",
            "copying drive/My Drive/Colab/Kaggle_RSA_Competition/Mask_RCNN-master/mrcnn/__init__.py -> build/lib/drive/My Drive/Colab/Kaggle_RSA_Competition/Mask_RCNN-master/mrcnn\n",
            "copying drive/My Drive/Colab/Kaggle_RSA_Competition/Mask_RCNN-master/mrcnn/utils.py -> build/lib/drive/My Drive/Colab/Kaggle_RSA_Competition/Mask_RCNN-master/mrcnn\n",
            "copying drive/My Drive/Colab/Kaggle_RSA_Competition/Mask_RCNN-master/mrcnn/visualize.py -> build/lib/drive/My Drive/Colab/Kaggle_RSA_Competition/Mask_RCNN-master/mrcnn\n",
            "copying drive/My Drive/Colab/Kaggle_RSA_Competition/Mask_RCNN-master/mrcnn/parallel_model.py -> build/lib/drive/My Drive/Colab/Kaggle_RSA_Competition/Mask_RCNN-master/mrcnn\n",
            "copying drive/My Drive/Colab/Kaggle_RSA_Competition/Mask_RCNN-master/mrcnn/config.py -> build/lib/drive/My Drive/Colab/Kaggle_RSA_Competition/Mask_RCNN-master/mrcnn\n",
            "creating build/bdist.linux-x86_64\n",
            "creating build/bdist.linux-x86_64/egg\n",
            "creating build/bdist.linux-x86_64/egg/drive\n",
            "creating build/bdist.linux-x86_64/egg/drive/My Drive\n",
            "creating build/bdist.linux-x86_64/egg/drive/My Drive/Colab\n",
            "creating build/bdist.linux-x86_64/egg/drive/My Drive/Colab/Kaggle_RSA_Competition\n",
            "creating build/bdist.linux-x86_64/egg/drive/My Drive/Colab/Kaggle_RSA_Competition/Mask_RCNN-master\n",
            "creating build/bdist.linux-x86_64/egg/drive/My Drive/Colab/Kaggle_RSA_Competition/Mask_RCNN-master/mrcnn\n",
            "copying build/lib/drive/My Drive/Colab/Kaggle_RSA_Competition/Mask_RCNN-master/mrcnn/model.py -> build/bdist.linux-x86_64/egg/drive/My Drive/Colab/Kaggle_RSA_Competition/Mask_RCNN-master/mrcnn\n",
            "copying build/lib/drive/My Drive/Colab/Kaggle_RSA_Competition/Mask_RCNN-master/mrcnn/visualize.py -> build/bdist.linux-x86_64/egg/drive/My Drive/Colab/Kaggle_RSA_Competition/Mask_RCNN-master/mrcnn\n",
            "copying build/lib/drive/My Drive/Colab/Kaggle_RSA_Competition/Mask_RCNN-master/mrcnn/parallel_model.py -> build/bdist.linux-x86_64/egg/drive/My Drive/Colab/Kaggle_RSA_Competition/Mask_RCNN-master/mrcnn\n",
            "copying build/lib/drive/My Drive/Colab/Kaggle_RSA_Competition/Mask_RCNN-master/mrcnn/config.py -> build/bdist.linux-x86_64/egg/drive/My Drive/Colab/Kaggle_RSA_Competition/Mask_RCNN-master/mrcnn\n",
            "copying build/lib/drive/My Drive/Colab/Kaggle_RSA_Competition/Mask_RCNN-master/mrcnn/utils.py -> build/bdist.linux-x86_64/egg/drive/My Drive/Colab/Kaggle_RSA_Competition/Mask_RCNN-master/mrcnn\n",
            "copying build/lib/drive/My Drive/Colab/Kaggle_RSA_Competition/Mask_RCNN-master/mrcnn/__init__.py -> build/bdist.linux-x86_64/egg/drive/My Drive/Colab/Kaggle_RSA_Competition/Mask_RCNN-master/mrcnn\n",
            "byte-compiling build/bdist.linux-x86_64/egg/drive/My Drive/Colab/Kaggle_RSA_Competition/Mask_RCNN-master/mrcnn/model.py to model.cpython-36.pyc\n",
            "byte-compiling build/bdist.linux-x86_64/egg/drive/My Drive/Colab/Kaggle_RSA_Competition/Mask_RCNN-master/mrcnn/visualize.py to visualize.cpython-36.pyc\n",
            "byte-compiling build/bdist.linux-x86_64/egg/drive/My Drive/Colab/Kaggle_RSA_Competition/Mask_RCNN-master/mrcnn/parallel_model.py to parallel_model.cpython-36.pyc\n",
            "byte-compiling build/bdist.linux-x86_64/egg/drive/My Drive/Colab/Kaggle_RSA_Competition/Mask_RCNN-master/mrcnn/config.py to config.cpython-36.pyc\n",
            "byte-compiling build/bdist.linux-x86_64/egg/drive/My Drive/Colab/Kaggle_RSA_Competition/Mask_RCNN-master/mrcnn/utils.py to utils.cpython-36.pyc\n",
            "byte-compiling build/bdist.linux-x86_64/egg/drive/My Drive/Colab/Kaggle_RSA_Competition/Mask_RCNN-master/mrcnn/__init__.py to __init__.cpython-36.pyc\n",
            "creating build/bdist.linux-x86_64/egg/EGG-INFO\n",
            "copying mask_rcnn.egg-info/PKG-INFO -> build/bdist.linux-x86_64/egg/EGG-INFO\n",
            "copying mask_rcnn.egg-info/SOURCES.txt -> build/bdist.linux-x86_64/egg/EGG-INFO\n",
            "copying mask_rcnn.egg-info/dependency_links.txt -> build/bdist.linux-x86_64/egg/EGG-INFO\n",
            "copying mask_rcnn.egg-info/top_level.txt -> build/bdist.linux-x86_64/egg/EGG-INFO\n",
            "zip_safe flag not set; analyzing archive contents...\n",
            "creating dist\n",
            "creating 'dist/mask_rcnn-2.1-py3.6.egg' and adding 'build/bdist.linux-x86_64/egg' to it\n",
            "removing 'build/bdist.linux-x86_64/egg' (and everything under it)\n",
            "Processing mask_rcnn-2.1-py3.6.egg\n",
            "Copying mask_rcnn-2.1-py3.6.egg to /usr/local/lib/python3.6/dist-packages\n",
            "Adding mask-rcnn 2.1 to easy-install.pth file\n",
            "\n",
            "Installed /usr/local/lib/python3.6/dist-packages/mask_rcnn-2.1-py3.6.egg\n",
            "Processing dependencies for mask-rcnn==2.1\n",
            "Finished processing dependencies for mask-rcnn==2.1\n"
          ],
          "name": "stdout"
        }
      ]
    },
    {
      "metadata": {
        "id": "b6uDpQXnTQqG",
        "colab_type": "code",
        "colab": {}
      },
      "cell_type": "code",
      "source": [
        "# Root directory of the RCNN lib\n",
        "ROOT_DIR = os.path.abspath(\"drive/My Drive/Colab/Kaggle_RSA_Competition/Mask_RCNN-master/\")\n",
        "\n",
        "# Import Mask RCNN\n",
        "sys.path.append(ROOT_DIR)  # To find local version of the lib\n",
        "from mrcnn.config import Config\n",
        "from mrcnn import utils\n",
        "import mrcnn.model as modellib\n",
        "from mrcnn import visualize\n",
        "from mrcnn.model import log\n",
        "\n"
      ],
      "execution_count": 0,
      "outputs": []
    },
    {
      "metadata": {
        "id": "maFQbCyHXwFT",
        "colab_type": "code",
        "colab": {
          "base_uri": "https://localhost:8080/",
          "height": 235
        },
        "outputId": "3124b5b2-f177-4d68-8ba4-06e78ee0561a"
      },
      "cell_type": "code",
      "source": [
        "sys.path"
      ],
      "execution_count": 23,
      "outputs": [
        {
          "output_type": "execute_result",
          "data": {
            "text/plain": [
              "['',\n",
              " '/env/python',\n",
              " '/usr/lib/python36.zip',\n",
              " '/usr/lib/python3.6',\n",
              " '/usr/lib/python3.6/lib-dynload',\n",
              " '/usr/local/lib/python3.6/dist-packages',\n",
              " '/usr/lib/python3/dist-packages',\n",
              " '/usr/local/lib/python3.6/dist-packages/IPython/extensions',\n",
              " '/root/.ipython',\n",
              " '/content/drive/My Drive/Colab/Kaggle_RSA_Competition/Mask_RCNN-master',\n",
              " '/',\n",
              " '/content/drive/My Drive/Colab/Kaggle_RSA_Competition/Mask_RCNN-master']"
            ]
          },
          "metadata": {
            "tags": []
          },
          "execution_count": 23
        }
      ]
    },
    {
      "metadata": {
        "id": "kfR1vwUObHw9",
        "colab_type": "code",
        "colab": {
          "base_uri": "https://localhost:8080/",
          "height": 983
        },
        "outputId": "24168cb2-158f-4324-dc4b-aade8ee89423"
      },
      "cell_type": "code",
      "source": [
        "class DetectorConfig(Config):\n",
        "    \"\"\"Override config class in mrcnn lib for Pneumonia detection on the RSNA kaggle dataset.\n",
        "    \"\"\"\n",
        "\n",
        "    # Give the configuration a recognizable name\n",
        "    NAME = 'Pneumonia'\n",
        "\n",
        "    # Train on 1 GPU and 1 images per GPU. We can put multiple images on each\n",
        "\n",
        "    GPU_COUNT = 1\n",
        "    IMAGES_PER_GPU = 5\n",
        "\n",
        "    BACKBONE = 'resnet50'\n",
        "\n",
        "    NUM_CLASSES = 2  # background (BG) + 1 Pneumonia classes\n",
        "\n",
        "    IMAGE_MIN_DIM = 256\n",
        "    IMAGE_MAX_DIM = 256\n",
        "    RPN_ANCHOR_SCALES = (16, 32, 64, 128)\n",
        "    TRAIN_ROIS_PER_IMAGE = 32\n",
        "    MAX_GT_INSTANCES = 4\n",
        "    DETECTION_MAX_INSTANCES = 3\n",
        "    DETECTION_MIN_CONFIDENCE = 0.78  ## match target distribution\n",
        "    DETECTION_NMS_THRESHOLD = 0.01\n",
        "\n",
        "    STEPS_PER_EPOCH = 70\n",
        "\n",
        "  \n",
        "\n",
        "Config = DetectorConfig()\n",
        "Config.display()\n"
      ],
      "execution_count": 24,
      "outputs": [
        {
          "output_type": "stream",
          "text": [
            "\n",
            "Configurations:\n",
            "BACKBONE                       resnet50\n",
            "BACKBONE_STRIDES               [4, 8, 16, 32, 64]\n",
            "BATCH_SIZE                     5\n",
            "BBOX_STD_DEV                   [0.1 0.1 0.2 0.2]\n",
            "COMPUTE_BACKBONE_SHAPE         None\n",
            "DETECTION_MAX_INSTANCES        3\n",
            "DETECTION_MIN_CONFIDENCE       0.78\n",
            "DETECTION_NMS_THRESHOLD        0.01\n",
            "FPN_CLASSIF_FC_LAYERS_SIZE     1024\n",
            "GPU_COUNT                      1\n",
            "GRADIENT_CLIP_NORM             5.0\n",
            "IMAGES_PER_GPU                 5\n",
            "IMAGE_CHANNEL_COUNT            3\n",
            "IMAGE_MAX_DIM                  256\n",
            "IMAGE_META_SIZE                14\n",
            "IMAGE_MIN_DIM                  256\n",
            "IMAGE_MIN_SCALE                0\n",
            "IMAGE_RESIZE_MODE              square\n",
            "IMAGE_SHAPE                    [256 256   3]\n",
            "LEARNING_MOMENTUM              0.9\n",
            "LEARNING_RATE                  0.001\n",
            "LOSS_WEIGHTS                   {'rpn_class_loss': 1.0, 'rpn_bbox_loss': 1.0, 'mrcnn_class_loss': 1.0, 'mrcnn_bbox_loss': 1.0, 'mrcnn_mask_loss': 1.0}\n",
            "MASK_POOL_SIZE                 14\n",
            "MASK_SHAPE                     [28, 28]\n",
            "MAX_GT_INSTANCES               4\n",
            "MEAN_PIXEL                     [123.7 116.8 103.9]\n",
            "MINI_MASK_SHAPE                (56, 56)\n",
            "NAME                           Pneumonia\n",
            "NUM_CLASSES                    2\n",
            "POOL_SIZE                      7\n",
            "POST_NMS_ROIS_INFERENCE        1000\n",
            "POST_NMS_ROIS_TRAINING         2000\n",
            "PRE_NMS_LIMIT                  6000\n",
            "ROI_POSITIVE_RATIO             0.33\n",
            "RPN_ANCHOR_RATIOS              [0.5, 1, 2]\n",
            "RPN_ANCHOR_SCALES              (16, 32, 64, 128)\n",
            "RPN_ANCHOR_STRIDE              1\n",
            "RPN_BBOX_STD_DEV               [0.1 0.1 0.2 0.2]\n",
            "RPN_NMS_THRESHOLD              0.7\n",
            "RPN_TRAIN_ANCHORS_PER_IMAGE    256\n",
            "STEPS_PER_EPOCH                70\n",
            "TOP_DOWN_PYRAMID_SIZE          256\n",
            "TRAIN_BN                       False\n",
            "TRAIN_ROIS_PER_IMAGE           32\n",
            "USE_MINI_MASK                  True\n",
            "USE_RPN_ROIS                   True\n",
            "VALIDATION_STEPS               50\n",
            "WEIGHT_DECAY                   0.0001\n",
            "\n",
            "\n"
          ],
          "name": "stdout"
        }
      ]
    },
    {
      "metadata": {
        "id": "FgH86stQ4lRz",
        "colab_type": "code",
        "colab": {}
      },
      "cell_type": "code",
      "source": [
        "class DetectorDataset(utils.Dataset):\n",
        "    \"\"\"Override Dataset class in mrcnn lib for Pneumonia detection on the RSNA kaggle dataset.\n",
        "       Could be used for loading train/test/validation datasets\n",
        "    \"\"\"\n",
        "\n",
        "    def __init__(self, image_list, image_information, height, width):\n",
        "        super().__init__(self)\n",
        "\n",
        "        # Add classes - we need just 1 class ('Pneumonia')\n",
        "        self.add_class('Pneumonia', 1, 'Lung Opacity')\n",
        "\n",
        "        # add images\n",
        "        for i, file_path in enumerate(image_list):\n",
        "            image_info_box = image_information[file_path]\n",
        "            self.add_image('Pneumonia', image_id=i, path=file_path,\n",
        "                           image_information=image_info_box, image_height=height, image_width=width)\n",
        "\n",
        "    def image_reference(self, image_id):\n",
        "        info = self.image_info[image_id]\n",
        "        return info['path']\n",
        "\n",
        "    def load_image(self, image_id):\n",
        "        info = self.image_info[image_id]\n",
        "        file_path = info['path']\n",
        "        dicom_file = pydicom.read_file(file_path)\n",
        "        image = dicom_file.pixel_array\n",
        "        # If grayscale. Convert to RGB for consistency.\n",
        "        if len(image.shape) != 3 or image.shape[2] != 3:\n",
        "            image = np.stack((image,) * 3, -1)\n",
        "        return image\n",
        "\n",
        "    def load_mask(self, image_id):\n",
        "        info = self.image_info[image_id]\n",
        "        image_information = info['image_information']\n",
        "\n",
        "        box_counter = len(image_information)\n",
        "        \n",
        "        if box_counter == 0:\n",
        "            mask = np.zeros((info['image_height'], info['image_width'], 1), dtype=np.uint8)\n",
        "            class_ids = np.zeros((1,), dtype=np.int32)\n",
        "        else:\n",
        "            mask = np.zeros((info['image_height'], info['image_width'], box_counter), dtype=np.uint8)\n",
        "            class_ids = np.zeros((box_counter,), dtype=np.int32)\n",
        "            for i, box in enumerate(image_information):\n",
        "                if box['Target'] == 1:\n",
        "                    x = int(box['x'])\n",
        "                    y = int(box['y'])\n",
        "                    width = int(box['width'])\n",
        "                    height = int(box['height'])\n",
        "                    \n",
        "                    mask_inst = mask[:, :, i].copy()\n",
        "\n",
        "                    cv2.rectangle(mask_inst, (x, y), (x + width, y + height), 255, -1)\n",
        "                    mask[:, :, i] = mask_inst\n",
        "                    class_ids[i] = 1\n",
        "        return mask.astype(np.bool), class_ids.astype(np.int32)"
      ],
      "execution_count": 0,
      "outputs": []
    },
    {
      "metadata": {
        "id": "tJdFrpCtT5h1",
        "colab_type": "code",
        "colab": {
          "base_uri": "https://localhost:8080/",
          "height": 55
        },
        "outputId": "fec937ff-5bee-4da9-dcc1-8342319f2b3c"
      },
      "cell_type": "code",
      "source": [
        "Path_train_dicom_image = \"drive/My Drive/Colab/Kaggle_RSA_Competition/stage_1_train_images/\"\n",
        "\n",
        "Path_train_boxes_image = \"drive/My Drive/Colab/Kaggle_RSA_Competition/stage_1_train_labels.csv\"\n",
        "\n",
        "path_additional_info = \"drive/My Drive/Colab/Kaggle_RSA_Competition/stage_1_detailed_class_info.csv\"\n",
        "\n",
        "print(os.listdir(\"drive/My Drive/Colab/Kaggle_RSA_Competition\"))"
      ],
      "execution_count": 12,
      "outputs": [
        {
          "output_type": "stream",
          "text": [
            "['cnn_test.ipynb', '__init__.py', 'Mask_RCNN_model.py', 'Mask_RCNN-master', 'stage_1_train_labels.csv', 'stage_1_detailed_class_info.csv', 'stage_1_sample_submission.csv', 'GCP Credits Request Link - RSNA.txt', 'stage_1_train_images', 'stage_1_test_images']\n"
          ],
          "name": "stdout"
        }
      ]
    },
    {
      "metadata": {
        "id": "6ewdGSITbtWt",
        "colab_type": "code",
        "colab": {}
      },
      "cell_type": "code",
      "source": [
        "def dataset_load (image_dir, image_info_file):\n",
        "    lstFilesDCM = []\n",
        "    for dirName, subdirList, fileList in os.walk(image_dir):\n",
        "        for filename in fileList:\n",
        "            if \".dcm\" in filename.lower():  # check whether the file's DICOM\n",
        "                lstFilesDCM.append(os.path.join(dirName,filename))\n",
        "\n",
        "    image_info = {pat: [] for pat in lstFilesDCM}\n",
        "    for index, row in image_info_file.iterrows():\n",
        "        pat = os.path.join(image_dir, row['patientId']+'.dcm')\n",
        "        image_info[pat].append(row)\n",
        "    return lstFilesDCM, image_info"
      ],
      "execution_count": 0,
      "outputs": []
    },
    {
      "metadata": {
        "id": "vVG7F-J8byO3",
        "colab_type": "code",
        "colab": {
          "base_uri": "https://localhost:8080/",
          "height": 363
        },
        "outputId": "b1033174-c3bc-4bbe-b292-ce377028fb85"
      },
      "cell_type": "code",
      "source": [
        "boxes_labels = pd.read_csv(Path_train_boxes_image)\n",
        "boxes_labels.info()\n",
        "boxes_labels.head()   \n",
        "\n",
        "additional_info = pd.read_csv(path_additional_info)\n",
        "additional_info.info() \n",
        "additional_info.head()\n",
        "\n",
        "image_file_list, image_info = dataset_load(Path_train_dicom_image, boxes_labels )\n",
        "\n",
        "ORIG_SIZE = 1024\n",
        "\n",
        "\n",
        "len_data = len(image_file_list)\n",
        "\n",
        "train_size = int(len_data*0.8)\n",
        "print(train_size)\n",
        "\n",
        "image_file_list_train = image_file_list[:train_size]\n",
        "image_file_list_val = image_file_list[train_size:]\n",
        "\n",
        "dataset_train = DetectorDataset(image_file_list[:train_size], image_info, ORIG_SIZE, ORIG_SIZE)\n",
        "dataset_train.prepare()\n",
        "\n",
        "dataset_val = DetectorDataset(image_file_list[train_size:], image_info, ORIG_SIZE, ORIG_SIZE)\n",
        "dataset_val.prepare()"
      ],
      "execution_count": 14,
      "outputs": [
        {
          "output_type": "stream",
          "text": [
            "<class 'pandas.core.frame.DataFrame'>\n",
            "RangeIndex: 28989 entries, 0 to 28988\n",
            "Data columns (total 6 columns):\n",
            "patientId    28989 non-null object\n",
            "x            8964 non-null float64\n",
            "y            8964 non-null float64\n",
            "width        8964 non-null float64\n",
            "height       8964 non-null float64\n",
            "Target       28989 non-null int64\n",
            "dtypes: float64(4), int64(1), object(1)\n",
            "memory usage: 1.3+ MB\n",
            "<class 'pandas.core.frame.DataFrame'>\n",
            "RangeIndex: 28989 entries, 0 to 28988\n",
            "Data columns (total 2 columns):\n",
            "patientId    28989 non-null object\n",
            "class        28989 non-null object\n",
            "dtypes: object(2)\n",
            "memory usage: 453.0+ KB\n",
            "20547\n"
          ],
          "name": "stdout"
        }
      ]
    },
    {
      "metadata": {
        "id": "OaFNlu4xb9tc",
        "colab_type": "code",
        "colab": {
          "base_uri": "https://localhost:8080/",
          "height": 380
        },
        "outputId": "0d47d40c-34fb-47bf-f76f-0b2a2a5fc5c3"
      },
      "cell_type": "code",
      "source": [
        "class_ids = [0]\n",
        "while class_ids[0] == 0:  ## look for a mask\n",
        "    image_id = random.choice(dataset_train.image_ids)\n",
        "    image_fp = dataset_train.image_reference(image_id)\n",
        "    image = dataset_train.load_image(image_id)\n",
        "    mask, class_ids = dataset_train.load_mask(image_id)\n",
        "\n",
        "print(image.shape)\n",
        "\n",
        "plt.figure(figsize=(10, 10))\n",
        "plt.subplot(1, 2, 1)\n",
        "plt.imshow(image)\n",
        "plt.axis('off')\n",
        "\n",
        "plt.subplot(1, 2, 2)\n",
        "masked = np.zeros(image.shape[:2])\n",
        "for i in range(mask.shape[2]):\n",
        "    masked += image[:, :, 0] * mask[:, :, i]\n",
        "plt.imshow(masked, cmap='gray')\n",
        "plt.axis('off')\n",
        "\n",
        "print(image_fp)\n",
        "print(class_ids)"
      ],
      "execution_count": 15,
      "outputs": [
        {
          "output_type": "stream",
          "text": [
            "(1024, 1024, 3)\n",
            "drive/My Drive/Colab/Kaggle_RSA_Competition/stage_1_train_images/e6ec8809-e44d-4802-9386-8f5ec351f03f.dcm\n",
            "[1]\n"
          ],
          "name": "stdout"
        },
        {
          "output_type": "display_data",
          "data": {
            "image/png": "[encoded data removed]",
            "text/plain": [
              "<matplotlib.figure.Figure at 0x7f0bb543a898>"
            ]
          },
          "metadata": {
            "tags": []
          }
        }
      ]
    },
    {
      "metadata": {
        "id": "CrXkv-N-dHB6",
        "colab_type": "code",
        "colab": {}
      },
      "cell_type": "code",
      "source": [
        "COCO_WEIGHTS_PATH = \"drive/My Drive/Colab/Kaggle_RSA_Competition/Mask_RCNN-master/mask_rcnn_coco.h5\""
      ],
      "execution_count": 0,
      "outputs": []
    },
    {
      "metadata": {
        "id": "eKsZktBXdeh7",
        "colab_type": "code",
        "colab": {}
      },
      "cell_type": "code",
      "source": [
        " CNN_model = modellib.MaskRCNN(mode='training', config=Config, model_dir=ROOT_DIR)\n",
        "\n"
      ],
      "execution_count": 0,
      "outputs": []
    },
    {
      "metadata": {
        "id": "4Paa199ItFdI",
        "colab_type": "code",
        "colab": {}
      },
      "cell_type": "code",
      "source": [
        "# Exclude the last layers because they require a matching\n",
        "# number of classes\n",
        "CNN_model.load_weights(COCO_WEIGHTS_PATH, by_name=True, exclude=[\n",
        "    \"mrcnn_class_logits\", \"mrcnn_bbox_fc\",\n",
        "    \"mrcnn_bbox\", \"mrcnn_mask\"])"
      ],
      "execution_count": 0,
      "outputs": []
    },
    {
      "metadata": {
        "id": "00uDUaDjt0px",
        "colab_type": "code",
        "colab": {}
      },
      "cell_type": "code",
      "source": [
        "import time\n",
        "\n",
        "LEARNING_RATE = 0.005\n",
        "\n",
        "# Train Mask-RCNN Model \n",
        "import warnings \n",
        "warnings.filterwarnings(\"ignore\")"
      ],
      "execution_count": 0,
      "outputs": []
    },
    {
      "metadata": {
        "id": "aFDHpIEPYCdx",
        "colab_type": "code",
        "colab": {
          "base_uri": "https://localhost:8080/",
          "height": 674
        },
        "outputId": "ede9a033-a1c5-4eb4-f337-cee0ee11b9d0"
      },
      "cell_type": "code",
      "source": [
        "# Train the head branches\n",
        "# Passing layers=\"heads\" freezes all layers except the head\n",
        "# layers. You can also pass a regular expression to select\n",
        "# which layers to train by name pattern.\n",
        "CNN_model.train(dataset_train, dataset_val, \n",
        "            learning_rate=LEARNING_RATE, \n",
        "            epochs=1, \n",
        "            layers='heads')"
      ],
      "execution_count": 29,
      "outputs": [
        {
          "output_type": "stream",
          "text": [
            "\n",
            "Starting at epoch 0. LR=0.005\n",
            "\n",
            "Checkpoint Path: /content/drive/My Drive/Colab/Kaggle_RSA_Competition/Mask_RCNN-master/pneumonia20181023T1928/mask_rcnn_pneumonia_{epoch:04d}.h5\n",
            "Selecting layers to train\n",
            "fpn_c5p5               (Conv2D)\n",
            "fpn_c4p4               (Conv2D)\n",
            "fpn_c3p3               (Conv2D)\n",
            "fpn_c2p2               (Conv2D)\n",
            "fpn_p5                 (Conv2D)\n",
            "fpn_p2                 (Conv2D)\n",
            "fpn_p3                 (Conv2D)\n",
            "fpn_p4                 (Conv2D)\n",
            "In model:  rpn_model\n",
            "    rpn_conv_shared        (Conv2D)\n",
            "    rpn_class_raw          (Conv2D)\n",
            "    rpn_bbox_pred          (Conv2D)\n",
            "mrcnn_mask_conv1       (TimeDistributed)\n",
            "mrcnn_mask_bn1         (TimeDistributed)\n",
            "mrcnn_mask_conv2       (TimeDistributed)\n",
            "mrcnn_mask_bn2         (TimeDistributed)\n",
            "mrcnn_class_conv1      (TimeDistributed)\n",
            "mrcnn_class_bn1        (TimeDistributed)\n",
            "mrcnn_mask_conv3       (TimeDistributed)\n",
            "mrcnn_mask_bn3         (TimeDistributed)\n",
            "mrcnn_class_conv2      (TimeDistributed)\n",
            "mrcnn_class_bn2        (TimeDistributed)\n",
            "mrcnn_mask_conv4       (TimeDistributed)\n",
            "mrcnn_mask_bn4         (TimeDistributed)\n",
            "mrcnn_bbox_fc          (TimeDistributed)\n",
            "mrcnn_mask_deconv      (TimeDistributed)\n",
            "mrcnn_class_logits     (TimeDistributed)\n",
            "mrcnn_mask             (TimeDistributed)\n",
            "Epoch 1/1\n",
            "70/70 [==============================] - 794s 11s/step - loss: 1.6440 - rpn_class_loss: 0.0185 - rpn_bbox_loss: 0.3878 - mrcnn_class_loss: 0.2654 - mrcnn_bbox_loss: 0.5694 - mrcnn_mask_loss: 0.4029 - val_loss: 1.6644 - val_rpn_class_loss: 0.0176 - val_rpn_bbox_loss: 0.4205 - val_mrcnn_class_loss: 0.3134 - val_mrcnn_bbox_loss: 0.5254 - val_mrcnn_mask_loss: 0.3875\n"
          ],
          "name": "stdout"
        }
      ]
    },
    {
      "metadata": {
        "id": "AaHICyDCt-cV",
        "colab_type": "code",
        "colab": {
          "base_uri": "https://localhost:8080/",
          "height": 2965
        },
        "outputId": "05172895-2000-4ba0-9288-cd2b5cf3467f"
      },
      "cell_type": "code",
      "source": [
        "%%time\n",
        "\n",
        "CNN_model.train(dataset_train, dataset_val,\n",
        "            learning_rate=LEARNING_RATE/3,\n",
        "            epochs=30,\n",
        "            layers='all')\n",
        "\n",
        "history = CNN_model.keras_model.history.history"
      ],
      "execution_count": 32,
      "outputs": [
        {
          "output_type": "stream",
          "text": [
            "\n",
            "Starting at epoch 20. LR=0.0016666666666666668\n",
            "\n",
            "Checkpoint Path: /content/drive/My Drive/Colab/Kaggle_RSA_Competition/Mask_RCNN-master/pneumonia20181023T1928/mask_rcnn_pneumonia_{epoch:04d}.h5\n",
            "Selecting layers to train\n",
            "conv1                  (Conv2D)\n",
            "bn_conv1               (BatchNorm)\n",
            "res2a_branch2a         (Conv2D)\n",
            "bn2a_branch2a          (BatchNorm)\n",
            "res2a_branch2b         (Conv2D)\n",
            "bn2a_branch2b          (BatchNorm)\n",
            "res2a_branch2c         (Conv2D)\n",
            "res2a_branch1          (Conv2D)\n",
            "bn2a_branch2c          (BatchNorm)\n",
            "bn2a_branch1           (BatchNorm)\n",
            "res2b_branch2a         (Conv2D)\n",
            "bn2b_branch2a          (BatchNorm)\n",
            "res2b_branch2b         (Conv2D)\n",
            "bn2b_branch2b          (BatchNorm)\n",
            "res2b_branch2c         (Conv2D)\n",
            "bn2b_branch2c          (BatchNorm)\n",
            "res2c_branch2a         (Conv2D)\n",
            "bn2c_branch2a          (BatchNorm)\n",
            "res2c_branch2b         (Conv2D)\n",
            "bn2c_branch2b          (BatchNorm)\n",
            "res2c_branch2c         (Conv2D)\n",
            "bn2c_branch2c          (BatchNorm)\n",
            "res3a_branch2a         (Conv2D)\n",
            "bn3a_branch2a          (BatchNorm)\n",
            "res3a_branch2b         (Conv2D)\n",
            "bn3a_branch2b          (BatchNorm)\n",
            "res3a_branch2c         (Conv2D)\n",
            "res3a_branch1          (Conv2D)\n",
            "bn3a_branch2c          (BatchNorm)\n",
            "bn3a_branch1           (BatchNorm)\n",
            "res3b_branch2a         (Conv2D)\n",
            "bn3b_branch2a          (BatchNorm)\n",
            "res3b_branch2b         (Conv2D)\n",
            "bn3b_branch2b          (BatchNorm)\n",
            "res3b_branch2c         (Conv2D)\n",
            "bn3b_branch2c          (BatchNorm)\n",
            "res3c_branch2a         (Conv2D)\n",
            "bn3c_branch2a          (BatchNorm)\n",
            "res3c_branch2b         (Conv2D)\n",
            "bn3c_branch2b          (BatchNorm)\n",
            "res3c_branch2c         (Conv2D)\n",
            "bn3c_branch2c          (BatchNorm)\n",
            "res3d_branch2a         (Conv2D)\n",
            "bn3d_branch2a          (BatchNorm)\n",
            "res3d_branch2b         (Conv2D)\n",
            "bn3d_branch2b          (BatchNorm)\n",
            "res3d_branch2c         (Conv2D)\n",
            "bn3d_branch2c          (BatchNorm)\n",
            "res4a_branch2a         (Conv2D)\n",
            "bn4a_branch2a          (BatchNorm)\n",
            "res4a_branch2b         (Conv2D)\n",
            "bn4a_branch2b          (BatchNorm)\n",
            "res4a_branch2c         (Conv2D)\n",
            "res4a_branch1          (Conv2D)\n",
            "bn4a_branch2c          (BatchNorm)\n",
            "bn4a_branch1           (BatchNorm)\n",
            "res4b_branch2a         (Conv2D)\n",
            "bn4b_branch2a          (BatchNorm)\n",
            "res4b_branch2b         (Conv2D)\n",
            "bn4b_branch2b          (BatchNorm)\n",
            "res4b_branch2c         (Conv2D)\n",
            "bn4b_branch2c          (BatchNorm)\n",
            "res4c_branch2a         (Conv2D)\n",
            "bn4c_branch2a          (BatchNorm)\n",
            "res4c_branch2b         (Conv2D)\n",
            "bn4c_branch2b          (BatchNorm)\n",
            "res4c_branch2c         (Conv2D)\n",
            "bn4c_branch2c          (BatchNorm)\n",
            "res4d_branch2a         (Conv2D)\n",
            "bn4d_branch2a          (BatchNorm)\n",
            "res4d_branch2b         (Conv2D)\n",
            "bn4d_branch2b          (BatchNorm)\n",
            "res4d_branch2c         (Conv2D)\n",
            "bn4d_branch2c          (BatchNorm)\n",
            "res4e_branch2a         (Conv2D)\n",
            "bn4e_branch2a          (BatchNorm)\n",
            "res4e_branch2b         (Conv2D)\n",
            "bn4e_branch2b          (BatchNorm)\n",
            "res4e_branch2c         (Conv2D)\n",
            "bn4e_branch2c          (BatchNorm)\n",
            "res4f_branch2a         (Conv2D)\n",
            "bn4f_branch2a          (BatchNorm)\n",
            "res4f_branch2b         (Conv2D)\n",
            "bn4f_branch2b          (BatchNorm)\n",
            "res4f_branch2c         (Conv2D)\n",
            "bn4f_branch2c          (BatchNorm)\n",
            "res5a_branch2a         (Conv2D)\n",
            "bn5a_branch2a          (BatchNorm)\n",
            "res5a_branch2b         (Conv2D)\n",
            "bn5a_branch2b          (BatchNorm)\n",
            "res5a_branch2c         (Conv2D)\n",
            "res5a_branch1          (Conv2D)\n",
            "bn5a_branch2c          (BatchNorm)\n",
            "bn5a_branch1           (BatchNorm)\n",
            "res5b_branch2a         (Conv2D)\n",
            "bn5b_branch2a          (BatchNorm)\n",
            "res5b_branch2b         (Conv2D)\n",
            "bn5b_branch2b          (BatchNorm)\n",
            "res5b_branch2c         (Conv2D)\n",
            "bn5b_branch2c          (BatchNorm)\n",
            "res5c_branch2a         (Conv2D)\n",
            "bn5c_branch2a          (BatchNorm)\n",
            "res5c_branch2b         (Conv2D)\n",
            "bn5c_branch2b          (BatchNorm)\n",
            "res5c_branch2c         (Conv2D)\n",
            "bn5c_branch2c          (BatchNorm)\n",
            "fpn_c5p5               (Conv2D)\n",
            "fpn_c4p4               (Conv2D)\n",
            "fpn_c3p3               (Conv2D)\n",
            "fpn_c2p2               (Conv2D)\n",
            "fpn_p5                 (Conv2D)\n",
            "fpn_p2                 (Conv2D)\n",
            "fpn_p3                 (Conv2D)\n",
            "fpn_p4                 (Conv2D)\n",
            "In model:  rpn_model\n",
            "    rpn_conv_shared        (Conv2D)\n",
            "    rpn_class_raw          (Conv2D)\n",
            "    rpn_bbox_pred          (Conv2D)\n",
            "mrcnn_mask_conv1       (TimeDistributed)\n",
            "mrcnn_mask_bn1         (TimeDistributed)\n",
            "mrcnn_mask_conv2       (TimeDistributed)\n",
            "mrcnn_mask_bn2         (TimeDistributed)\n",
            "mrcnn_class_conv1      (TimeDistributed)\n",
            "mrcnn_class_bn1        (TimeDistributed)\n",
            "mrcnn_mask_conv3       (TimeDistributed)\n",
            "mrcnn_mask_bn3         (TimeDistributed)\n",
            "mrcnn_class_conv2      (TimeDistributed)\n",
            "mrcnn_class_bn2        (TimeDistributed)\n",
            "mrcnn_mask_conv4       (TimeDistributed)\n",
            "mrcnn_mask_bn4         (TimeDistributed)\n",
            "mrcnn_bbox_fc          (TimeDistributed)\n",
            "mrcnn_mask_deconv      (TimeDistributed)\n",
            "mrcnn_class_logits     (TimeDistributed)\n",
            "mrcnn_mask             (TimeDistributed)\n",
            "Epoch 21/30\n",
            "70/70 [==============================] - 222s 3s/step - loss: 1.0942 - rpn_class_loss: 0.0055 - rpn_bbox_loss: 0.3008 - mrcnn_class_loss: 0.1126 - mrcnn_bbox_loss: 0.3235 - mrcnn_mask_loss: 0.3519 - val_loss: 1.3652 - val_rpn_class_loss: 0.0095 - val_rpn_bbox_loss: 0.4148 - val_mrcnn_class_loss: 0.1547 - val_mrcnn_bbox_loss: 0.3972 - val_mrcnn_mask_loss: 0.3890\n",
            "Epoch 22/30\n",
            "70/70 [==============================] - 177s 3s/step - loss: 1.0786 - rpn_class_loss: 0.0063 - rpn_bbox_loss: 0.2717 - mrcnn_class_loss: 0.1212 - mrcnn_bbox_loss: 0.3294 - mrcnn_mask_loss: 0.3500 - val_loss: 1.4411 - val_rpn_class_loss: 0.0100 - val_rpn_bbox_loss: 0.5244 - val_mrcnn_class_loss: 0.1225 - val_mrcnn_bbox_loss: 0.4003 - val_mrcnn_mask_loss: 0.3839\n",
            "Epoch 23/30\n",
            "70/70 [==============================] - 179s 3s/step - loss: 1.0927 - rpn_class_loss: 0.0069 - rpn_bbox_loss: 0.2688 - mrcnn_class_loss: 0.1144 - mrcnn_bbox_loss: 0.3427 - mrcnn_mask_loss: 0.3598 - val_loss: 1.1944 - val_rpn_class_loss: 0.0079 - val_rpn_bbox_loss: 0.3460 - val_mrcnn_class_loss: 0.1249 - val_mrcnn_bbox_loss: 0.3511 - val_mrcnn_mask_loss: 0.3645\n",
            "Epoch 24/30\n",
            "70/70 [==============================] - 179s 3s/step - loss: 1.1385 - rpn_class_loss: 0.0063 - rpn_bbox_loss: 0.3253 - mrcnn_class_loss: 0.1117 - mrcnn_bbox_loss: 0.3378 - mrcnn_mask_loss: 0.3573 - val_loss: 1.3214 - val_rpn_class_loss: 0.0084 - val_rpn_bbox_loss: 0.3856 - val_mrcnn_class_loss: 0.1814 - val_mrcnn_bbox_loss: 0.3761 - val_mrcnn_mask_loss: 0.3699\n",
            "Epoch 25/30\n",
            "70/70 [==============================] - 180s 3s/step - loss: 1.1128 - rpn_class_loss: 0.0063 - rpn_bbox_loss: 0.2974 - mrcnn_class_loss: 0.1132 - mrcnn_bbox_loss: 0.3421 - mrcnn_mask_loss: 0.3538 - val_loss: 1.2562 - val_rpn_class_loss: 0.0084 - val_rpn_bbox_loss: 0.3607 - val_mrcnn_class_loss: 0.1429 - val_mrcnn_bbox_loss: 0.3716 - val_mrcnn_mask_loss: 0.3726\n",
            "Epoch 26/30\n",
            "70/70 [==============================] - 176s 3s/step - loss: 1.1298 - rpn_class_loss: 0.0058 - rpn_bbox_loss: 0.2823 - mrcnn_class_loss: 0.1171 - mrcnn_bbox_loss: 0.3557 - mrcnn_mask_loss: 0.3688 - val_loss: 1.3005 - val_rpn_class_loss: 0.0087 - val_rpn_bbox_loss: 0.3644 - val_mrcnn_class_loss: 0.1473 - val_mrcnn_bbox_loss: 0.4021 - val_mrcnn_mask_loss: 0.3780\n",
            "Epoch 27/30\n",
            "70/70 [==============================] - 180s 3s/step - loss: 1.1237 - rpn_class_loss: 0.0061 - rpn_bbox_loss: 0.2815 - mrcnn_class_loss: 0.1213 - mrcnn_bbox_loss: 0.3527 - mrcnn_mask_loss: 0.3620 - val_loss: 1.2750 - val_rpn_class_loss: 0.0085 - val_rpn_bbox_loss: 0.3454 - val_mrcnn_class_loss: 0.1655 - val_mrcnn_bbox_loss: 0.3830 - val_mrcnn_mask_loss: 0.3726\n",
            "Epoch 28/30\n",
            "70/70 [==============================] - 189s 3s/step - loss: 1.0977 - rpn_class_loss: 0.0062 - rpn_bbox_loss: 0.2903 - mrcnn_class_loss: 0.1140 - mrcnn_bbox_loss: 0.3313 - mrcnn_mask_loss: 0.3559 - val_loss: 1.2546 - val_rpn_class_loss: 0.0092 - val_rpn_bbox_loss: 0.3273 - val_mrcnn_class_loss: 0.1707 - val_mrcnn_bbox_loss: 0.3801 - val_mrcnn_mask_loss: 0.3671\n",
            "Epoch 29/30\n",
            "70/70 [==============================] - 180s 3s/step - loss: 1.0418 - rpn_class_loss: 0.0061 - rpn_bbox_loss: 0.2481 - mrcnn_class_loss: 0.1129 - mrcnn_bbox_loss: 0.3287 - mrcnn_mask_loss: 0.3459 - val_loss: 1.2030 - val_rpn_class_loss: 0.0084 - val_rpn_bbox_loss: 0.3051 - val_mrcnn_class_loss: 0.1516 - val_mrcnn_bbox_loss: 0.3711 - val_mrcnn_mask_loss: 0.3668\n",
            "Epoch 30/30\n",
            "70/70 [==============================] - 180s 3s/step - loss: 1.0512 - rpn_class_loss: 0.0057 - rpn_bbox_loss: 0.2764 - mrcnn_class_loss: 0.0972 - mrcnn_bbox_loss: 0.3255 - mrcnn_mask_loss: 0.3463 - val_loss: 1.2582 - val_rpn_class_loss: 0.0090 - val_rpn_bbox_loss: 0.3973 - val_mrcnn_class_loss: 0.1262 - val_mrcnn_bbox_loss: 0.3628 - val_mrcnn_mask_loss: 0.3628\n",
            "CPU times: user 11min 30s, sys: 55.9 s, total: 12min 26s\n",
            "Wall time: 31min 41s\n"
          ],
          "name": "stdout"
        }
      ]
    },
    {
      "metadata": {
        "id": "aIvLmpLr-nI0",
        "colab_type": "code",
        "colab": {}
      },
      "cell_type": "code",
      "source": [
        "# save coefficients\n",
        "model_path = os.path.join(ROOT_DIR, \"mask_rcnn_shapes.h5\")\n",
        "CNN_model.keras_model.save_weights(model_path)\n"
      ],
      "execution_count": 0,
      "outputs": []
    },
    {
      "metadata": {
        "id": "Jz9aFQ2bCaen",
        "colab_type": "code",
        "colab": {
          "base_uri": "https://localhost:8080/",
          "height": 35
        },
        "outputId": "7b09f2d7-d916-47f0-cc0e-4635dd096b1c"
      },
      "cell_type": "code",
      "source": [
        "model_path \n"
      ],
      "execution_count": 42,
      "outputs": [
        {
          "output_type": "execute_result",
          "data": {
            "text/plain": [
              "'/content/drive/My Drive/Colab/Kaggle_RSA_Competition/Mask_RCNN-master/mask_rcnn_shapes.h5'"
            ]
          },
          "metadata": {
            "tags": []
          },
          "execution_count": 42
        }
      ]
    }
  ]
}